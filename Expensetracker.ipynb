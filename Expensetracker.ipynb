{
 "cells": [
  {
   "cell_type": "code",
   "execution_count": 1,
   "id": "58186561-2bcf-4c24-bca1-0637f16b19ad",
   "metadata": {},
   "outputs": [],
   "source": [
    "import csv\n",
    "from datetime import datetime\n",
    "import matplotlib.pyplot as plt\n",
    "\n",
    "# File to store expenses\n",
    "FILE_NAME = \"expenses.csv\"\n"
   ]
  },
  {
   "cell_type": "code",
   "execution_count": 2,
   "id": "cf8ae590-b699-408d-8ad5-0c0d22297f61",
   "metadata": {},
   "outputs": [],
   "source": [
    "def add_expense():\n",
    "    name = input(\"Enter expense name: \")\n",
    "    category = input(\"Enter category (Food/Travel/Shopping/Other): \")\n",
    "    amount = float(input(\"Enter amount: \"))\n",
    "    date = input(\"Enter date (YYYY-MM-DD) or press Enter for today: \")\n",
    "    \n",
    "    if date.strip() == \"\":\n",
    "        date = datetime.today().strftime('%Y-%m-%d')\n",
    "    \n",
    "    # Save to CSV\n",
    "    with open(FILE_NAME, mode=\"a\", newline=\"\") as file:\n",
    "        writer = csv.writer(file)\n",
    "        writer.writerow([name, category, amount, date])\n",
    "    \n",
    "    print(\"✅ Expense added successfully!\")\n"
   ]
  },
  {
   "cell_type": "code",
   "execution_count": 3,
   "id": "ccd40e76-f059-40a9-b1fb-468ebf57ff2a",
   "metadata": {},
   "outputs": [],
   "source": [
    "def view_expenses():\n",
    "    try:\n",
    "        with open(FILE_NAME, mode=\"r\") as file:\n",
    "            reader = csv.reader(file)\n",
    "            print(\"\\n--- All Expenses ---\")\n",
    "            for row in reader:\n",
    "                print(f\"Name: {row[0]}, Category: {row[1]}, Amount: ₹{row[2]}, Date: {row[3]}\")\n",
    "    except FileNotFoundError:\n",
    "        print(\"⚠️ No expenses found. Add some first!\")\n"
   ]
  },
  {
   "cell_type": "code",
   "execution_count": 4,
   "id": "8f6e79e4-ae88-45cb-8be8-2fd5dcd14b39",
   "metadata": {},
   "outputs": [],
   "source": [
    "def plot_expenses():\n",
    "    # Read expenses\n",
    "    expenses = {}\n",
    "    try:\n",
    "        with open(FILE_NAME, mode=\"r\") as file:\n",
    "            reader = csv.reader(file)\n",
    "            for row in reader:\n",
    "                category = row[1]\n",
    "                amount = float(row[2])\n",
    "                if category in expenses:\n",
    "                    expenses[category] += amount\n",
    "                else:\n",
    "                    expenses[category] = amount\n",
    "    except FileNotFoundError:\n",
    "        print(\"⚠️ No expenses found. Add some first!\")\n",
    "        return\n",
    "\n",
    "    # Plot pie chart\n",
    "    categories = list(expenses.keys())\n",
    "    amounts = list(expenses.values())\n",
    "    \n",
    "    plt.figure(figsize=(6,6))\n",
    "    plt.pie(amounts, labels=categories, autopct='%1.1f%%', startangle=90)\n",
    "    plt.title(\"Expenses by Category\")\n",
    "    plt.show()\n"
   ]
  },
  {
   "cell_type": "code",
   "execution_count": 5,
   "id": "84412ebf-ac9e-4f72-99d4-7c742c7eac5e",
   "metadata": {},
   "outputs": [],
   "source": [
    "def main_menu():\n",
    "    while True:\n",
    "        print(\"\\n===== Personal Expense Tracker =====\")\n",
    "        print(\"1. Add Expense\")\n",
    "        print(\"2. View Expenses\")\n",
    "        print(\"3. Plot Expenses\")\n",
    "        print(\"4. Exit\")\n",
    "        \n",
    "        choice = input(\"Enter your choice (1-4): \")\n",
    "        \n",
    "        if choice == '1':\n",
    "            add_expense()\n",
    "        elif choice == '2':\n",
    "            view_expenses()\n",
    "        elif choice == '3':\n",
    "            plot_expenses()\n",
    "        elif choice == '4':\n",
    "            print(\"👋 Exiting. Goodbye!\")\n",
    "            break\n",
    "        else:\n",
    "            print(\"⚠️ Invalid choice. Please enter 1-4.\")\n"
   ]
  },
  {
   "cell_type": "code",
   "execution_count": 6,
   "id": "d308d492-105b-495a-b8a5-fa1fae8690ee",
   "metadata": {},
   "outputs": [
    {
     "name": "stdout",
     "output_type": "stream",
     "text": [
      "\n",
      "===== Personal Expense Tracker =====\n",
      "1. Add Expense\n",
      "2. View Expenses\n",
      "3. Plot Expenses\n",
      "4. Exit\n"
     ]
    },
    {
     "name": "stdout",
     "output_type": "stream",
     "text": [
      "Enter your choice (1-4):  1\n",
      "Enter expense name:  health\n",
      "Enter category (Food/Travel/Shopping/Other):  food\n",
      "Enter amount:  200\n",
      "Enter date (YYYY-MM-DD) or press Enter for today:  \n"
     ]
    },
    {
     "name": "stdout",
     "output_type": "stream",
     "text": [
      "✅ Expense added successfully!\n",
      "\n",
      "===== Personal Expense Tracker =====\n",
      "1. Add Expense\n",
      "2. View Expenses\n",
      "3. Plot Expenses\n",
      "4. Exit\n"
     ]
    },
    {
     "name": "stdout",
     "output_type": "stream",
     "text": [
      "Enter your choice (1-4):  2\n"
     ]
    },
    {
     "name": "stdout",
     "output_type": "stream",
     "text": [
      "\n",
      "--- All Expenses ---\n",
      "Name: pizza, Category: food, Amount: ₹1000.0, Date: 2025-08-25\n",
      "Name: health, Category: food, Amount: ₹200.0, Date: 2025-08-25\n",
      "\n",
      "===== Personal Expense Tracker =====\n",
      "1. Add Expense\n",
      "2. View Expenses\n",
      "3. Plot Expenses\n",
      "4. Exit\n"
     ]
    },
    {
     "name": "stdout",
     "output_type": "stream",
     "text": [
      "Enter your choice (1-4):  3\n"
     ]
    },
    {
     "data": {
      "image/png": "[encoded data removed]",
      "text/plain": [
       "<Figure size 600x600 with 1 Axes>"
      ]
     },
     "metadata": {},
     "output_type": "display_data"
    },
    {
     "name": "stdout",
     "output_type": "stream",
     "text": [
      "\n",
      "===== Personal Expense Tracker =====\n",
      "1. Add Expense\n",
      "2. View Expenses\n",
      "3. Plot Expenses\n",
      "4. Exit\n"
     ]
    },
    {
     "name": "stdout",
     "output_type": "stream",
     "text": [
      "Enter your choice (1-4):  1\n",
      "Enter expense name:  school\n",
      "Enter category (Food/Travel/Shopping/Other):  travel\n",
      "Enter amount:  500\n",
      "Enter date (YYYY-MM-DD) or press Enter for today:  \n"
     ]
    },
    {
     "name": "stdout",
     "output_type": "stream",
     "text": [
      "✅ Expense added successfully!\n",
      "\n",
      "===== Personal Expense Tracker =====\n",
      "1. Add Expense\n",
      "2. View Expenses\n",
      "3. Plot Expenses\n",
      "4. Exit\n"
     ]
    },
    {
     "name": "stdout",
     "output_type": "stream",
     "text": [
      "Enter your choice (1-4):  4\n"
     ]
    },
    {
     "name": "stdout",
     "output_type": "stream",
     "text": [
      "👋 Exiting. Goodbye!\n"
     ]
    }
   ],
   "source": [
    "main_menu()"
   ]
  },
  {
   "cell_type": "code",
   "execution_count": 7,
   "id": "bd1e5367-4e44-4e2b-a98f-83a2c095a579",
   "metadata": {},
   "outputs": [
    {
     "name": "stdout",
     "output_type": "stream",
     "text": [
      "\n",
      "===== Personal Expense Tracker =====\n",
      "1. Add Expense\n",
      "2. View Expenses\n",
      "3. Plot Expenses\n",
      "4. Exit\n"
     ]
    },
    {
     "name": "stdout",
     "output_type": "stream",
     "text": [
      "Enter your choice (1-4):  1\n",
      "Enter expense name:  music\n",
      "Enter category (Food/Travel/Shopping/Other):  other\n",
      "Enter amount:  900\n",
      "Enter date (YYYY-MM-DD) or press Enter for today:  \n"
     ]
    },
    {
     "name": "stdout",
     "output_type": "stream",
     "text": [
      "✅ Expense added successfully!\n",
      "\n",
      "===== Personal Expense Tracker =====\n",
      "1. Add Expense\n",
      "2. View Expenses\n",
      "3. Plot Expenses\n",
      "4. Exit\n"
     ]
    },
    {
     "name": "stdout",
     "output_type": "stream",
     "text": [
      "Enter your choice (1-4):  3\n"
     ]
    },
    {
     "data": {
      "image/png": "[encoded data removed]",
      "text/plain": [
       "<Figure size 600x600 with 1 Axes>"
      ]
     },
     "metadata": {},
     "output_type": "display_data"
    },
    {
     "name": "stdout",
     "output_type": "stream",
     "text": [
      "\n",
      "===== Personal Expense Tracker =====\n",
      "1. Add Expense\n",
      "2. View Expenses\n",
      "3. Plot Expenses\n",
      "4. Exit\n"
     ]
    },
    {
     "name": "stdout",
     "output_type": "stream",
     "text": [
      "Enter your choice (1-4):  4\n"
     ]
    },
    {
     "name": "stdout",
     "output_type": "stream",
     "text": [
      "👋 Exiting. Goodbye!\n"
     ]
    }
   ],
   "source": [
    "main_menu()\n"
   ]
  }
 ],
 "metadata": {
  "kernelspec": {
   "display_name": "Python [conda env:base] *",
   "language": "python",
   "name": "conda-base-py"
  },
  "language_info": {
   "codemirror_mode": {
    "name": "ipython",
    "version": 3
   },
   "file_extension": ".py",
   "mimetype": "text/x-python",
   "name": "python",
   "nbconvert_exporter": "python",
   "pygments_lexer": "ipython3",
   "version": "3.13.5"
  }
 },
 "nbformat": 4,
 "nbformat_minor": 5
}
